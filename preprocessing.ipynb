{
 "cells": [
  {
   "cell_type": "code",
   "execution_count": 3,
   "metadata": {},
   "outputs": [
    {
     "name": "stdout",
     "output_type": "stream",
     "text": [
      "The line_profiler extension is already loaded. To reload it, use:\n",
      "  %reload_ext line_profiler\n"
     ]
    }
   ],
   "source": [
    "# import \n",
    "import os\n",
    "import re\n",
    "import csv\n",
    "import copy\n",
    "import time\n",
    "import math\n",
    "from math import sqrt, acos, atan2, sin, cos\n",
    "import datetime\n",
    "import statistics\n",
    "\n",
    "from numpy import dot\n",
    "from numpy.linalg import norm\n",
    "import numpy as np\n",
    "import pandas as pd\n",
    "from pandas import ExcelWriter \n",
    "from glob import glob\n",
    "from collections import defaultdict\n",
    "\n",
    "\n",
    "import scipy\n",
    "import pickle\n",
    "import pymannkendall as mk\n",
    "%matplotlib inline\n",
    "import matplotlib.pyplot as plt \n",
    "import seaborn as sns\n",
    "import missingno as msno\n",
    "%load_ext line_profiler\n",
    "\n",
    "from src.utils import (\n",
    "    time2frame, metadata2frame, coughxlsx2df, processed2df, cut2case, cut2single, \n",
    "    _make_query, make_queries, query, query_w, getqueries, tval_df, bubbles2e, openpkl,\n",
    "    createFolder, data2csv, save2pkl\n",
    ")\n",
    "\n",
    "from src.utils_plot import(\n",
    "    cutplot, draw_corr_pval, drawheatmap_ttest,\n",
    ")\n",
    "\n",
    "import Dataloader as dl"
   ]
  },
  {
   "cell_type": "code",
   "execution_count": null,
   "metadata": {},
   "outputs": [],
   "source": [
    "name = 'jinhee'\n",
    "# datapath_top = f'./data/raw/{date}'\n",
    "datapath_top = f'd:/OneDrive/HubRoom/Projects/SD physiology/Data/Pilot/{name}'\n",
    "\n",
    "\n",
    "(names, anxiety_log,\n",
    "subj_pos_out, subj_rot_out, subj_pos_in, subj_rot_in, \n",
    "subj_custom_out, subj_custom_in, zero_out, zero_in, subjectID_out, subjectID_in,\n",
    "subjID_out, subjID_in) = dl.dataloader(datapath_top)"
   ]
  }
 ],
 "metadata": {
  "kernelspec": {
   "display_name": "torch",
   "language": "python",
   "name": "python3"
  },
  "language_info": {
   "codemirror_mode": {
    "name": "ipython",
    "version": 3
   },
   "file_extension": ".py",
   "mimetype": "text/x-python",
   "name": "python",
   "nbconvert_exporter": "python",
   "pygments_lexer": "ipython3",
   "version": "3.8.2"
  }
 },
 "nbformat": 4,
 "nbformat_minor": 2
}
