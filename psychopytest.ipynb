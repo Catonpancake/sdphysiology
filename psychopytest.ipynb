{
 "cells": [
  {
   "cell_type": "code",
   "execution_count": 3,
   "metadata": {},
   "outputs": [],
   "source": [
    "from psychopy.misc import fromFile"
   ]
  },
  {
   "cell_type": "code",
   "execution_count": 8,
   "metadata": {},
   "outputs": [
    {
     "ename": "IndexError",
     "evalue": "list index out of range",
     "output_type": "error",
     "traceback": [
      "\u001b[1;31m---------------------------------------------------------------------------\u001b[0m",
      "\u001b[1;31mIndexError\u001b[0m                                Traceback (most recent call last)",
      "Input \u001b[1;32mIn [8]\u001b[0m, in \u001b[0;36m<cell line: 3>\u001b[1;34m()\u001b[0m\n\u001b[0;32m      1\u001b[0m fpath \u001b[38;5;241m=\u001b[39m \u001b[38;5;124m'\u001b[39m\u001b[38;5;124m1임지훈_Social Distance_2022-05-02_19h05.38.205.psydat\u001b[39m\u001b[38;5;124m'\u001b[39m\n\u001b[0;32m      2\u001b[0m psydata \u001b[38;5;241m=\u001b[39m fromFile(fpath)\n\u001b[1;32m----> 3\u001b[0m trialHandlerParams \u001b[38;5;241m=\u001b[39m \u001b[38;5;28mdir\u001b[39m(\u001b[43mpsydata\u001b[49m\u001b[38;5;241;43m.\u001b[39;49m\u001b[43mloops\u001b[49m\u001b[43m[\u001b[49m\u001b[38;5;241;43m0\u001b[39;49m\u001b[43m]\u001b[49m)\n\u001b[0;32m      4\u001b[0m trialHandler \u001b[38;5;241m=\u001b[39m psydata\u001b[38;5;241m.\u001b[39mloops[\u001b[38;5;241m0\u001b[39m]\n\u001b[0;32m      5\u001b[0m trialHandler\u001b[38;5;241m.\u001b[39mdata\n",
      "\u001b[1;31mIndexError\u001b[0m: list index out of range"
     ]
    }
   ],
   "source": [
    "fpath = '1임지훈_Social Distance_2022-05-02_19h05.38.205.psydat'\n",
    "psydata = fromFile(fpath)\n",
    "trialHandlerParams = dir(psydata.loops[0])\n",
    "trialHandler = psydata.loops[0]\n",
    "trialHandler.data"
   ]
  },
  {
   "cell_type": "code",
   "execution_count": null,
   "metadata": {},
   "outputs": [],
   "source": []
  }
 ],
 "metadata": {
  "kernelspec": {
   "display_name": "torch",
   "language": "python",
   "name": "python3"
  },
  "language_info": {
   "codemirror_mode": {
    "name": "ipython",
    "version": 3
   },
   "file_extension": ".py",
   "mimetype": "text/x-python",
   "name": "python",
   "nbconvert_exporter": "python",
   "pygments_lexer": "ipython3",
   "version": "3.8.2"
  }
 },
 "nbformat": 4,
 "nbformat_minor": 2
}
